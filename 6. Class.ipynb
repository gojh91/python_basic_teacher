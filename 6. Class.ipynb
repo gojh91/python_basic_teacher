{
 "cells": [
  {
   "cell_type": "markdown",
   "metadata": {},
   "source": [
    "# 객체와 클래스"
   ]
  },
  {
   "cell_type": "code",
   "execution_count": 1,
   "metadata": {},
   "outputs": [],
   "source": [
    "class Dog:    \n",
    "    def __init__(self, name, color):\n",
    "        self.name = name\n",
    "        self.color = color\n",
    "        self.hungry = 0\n",
    "    \n",
    "    def eat(self):\n",
    "        self.hungry -= 10\n",
    "        print(\"밥먹음 \", self.hungry)\n",
    "        \n",
    "    def walk(self):\n",
    "        self.hungry += 10\n",
    "        print(\"산책 \", self.hungry)"
   ]
  },
  {
   "cell_type": "code",
   "execution_count": null,
   "metadata": {},
   "outputs": [],
   "source": []
  },
  {
   "cell_type": "code",
   "execution_count": 13,
   "metadata": {},
   "outputs": [],
   "source": [
    "class Dog:    \n",
    "    def __init__(self, name, color):\n",
    "        self.name = name\n",
    "        self.color = color\n",
    "        self.__hungry = 0\n",
    "    \n",
    "    def eat(self):\n",
    "        self.__hungry -= 10\n",
    "        print(\"밥먹음 \", self.__hungry)\n",
    "        \n",
    "    def walk(self):\n",
    "        self.__hungry += 10\n",
    "        print(\"산책 \", self.__hungry)"
   ]
  },
  {
   "cell_type": "code",
   "execution_count": 14,
   "metadata": {},
   "outputs": [],
   "source": [
    "my_dog = Dog(\"초코\", 'chocolate')"
   ]
  },
  {
   "cell_type": "code",
   "execution_count": 15,
   "metadata": {},
   "outputs": [
    {
     "name": "stdout",
     "output_type": "stream",
     "text": [
      "산책  10\n"
     ]
    }
   ],
   "source": [
    "my_dog.walk()"
   ]
  },
  {
   "cell_type": "code",
   "execution_count": 16,
   "metadata": {},
   "outputs": [
    {
     "name": "stdout",
     "output_type": "stream",
     "text": [
      "밥먹음  0\n"
     ]
    }
   ],
   "source": [
    "my_dog.eat()"
   ]
  },
  {
   "cell_type": "code",
   "execution_count": 32,
   "metadata": {},
   "outputs": [],
   "source": [
    "class Dog:    \n",
    "    dog_total = 0\n",
    "    \n",
    "    @staticmethod\n",
    "    def get_eye_num():\n",
    "        return 2\n",
    "    \n",
    "    @classmethod\n",
    "    def count_dog_total(cls):\n",
    "        return cls.dog_total\n",
    "    \n",
    "    @classmethod\n",
    "    def make_new_dog(cls):\n",
    "        print(cls)\n",
    "        \n",
    "        pass\n",
    "    \n",
    "    @classmethod\n",
    "    def make_new_yok(cls):\n",
    "        cls.dog_total+=1\n",
    "        return cls('yok', 'brown')\n",
    "    \n",
    "    def __init__(self, name, color):\n",
    "        self.name = name\n",
    "        self.color = color\n",
    "        self.hungry = 0\n",
    "\n",
    "    \n",
    "    def eat(self):\n",
    "        self.hungry -= 10\n",
    "        print(\"밥먹음 \", self.hungry)\n",
    "        \n",
    "    def walk(self):\n",
    "        self.hungry += 10\n",
    "        print(\"산책 \", self.hungry)"
   ]
  },
  {
   "cell_type": "code",
   "execution_count": 29,
   "metadata": {},
   "outputs": [],
   "source": [
    "my_dog = Dog.make_new_yok()\n"
   ]
  },
  {
   "cell_type": "code",
   "execution_count": 30,
   "metadata": {},
   "outputs": [
    {
     "data": {
      "text/plain": [
       "<__main__.Dog at 0x5c78dd8>"
      ]
     },
     "execution_count": 30,
     "metadata": {},
     "output_type": "execute_result"
    }
   ],
   "source": [
    "my_dog"
   ]
  },
  {
   "cell_type": "code",
   "execution_count": null,
   "metadata": {},
   "outputs": [],
   "source": []
  },
  {
   "cell_type": "code",
   "execution_count": 22,
   "metadata": {},
   "outputs": [],
   "source": [
    "my_dog = Dog(\"초코\", \"초코색\")\n",
    "my_dog2 = Dog(\"뽀삐\", \"보라색\")\n",
    "my_dog3 = Dog(\"노랑이\", \"노란색\")"
   ]
  },
  {
   "cell_type": "code",
   "execution_count": 24,
   "metadata": {},
   "outputs": [
    {
     "data": {
      "text/plain": [
       "3"
      ]
     },
     "execution_count": 24,
     "metadata": {},
     "output_type": "execute_result"
    }
   ],
   "source": [
    "Dog.count_dog_total()"
   ]
  },
  {
   "cell_type": "code",
   "execution_count": 33,
   "metadata": {},
   "outputs": [
    {
     "data": {
      "text/plain": [
       "2"
      ]
     },
     "execution_count": 33,
     "metadata": {},
     "output_type": "execute_result"
    }
   ],
   "source": [
    "Dog.get_eye_num()"
   ]
  },
  {
   "cell_type": "code",
   "execution_count": null,
   "metadata": {},
   "outputs": [],
   "source": []
  },
  {
   "cell_type": "code",
   "execution_count": null,
   "metadata": {},
   "outputs": [],
   "source": [
    "a = [1,2,3,4]"
   ]
  },
  {
   "cell_type": "code",
   "execution_count": null,
   "metadata": {},
   "outputs": [],
   "source": [
    "a.append(5)"
   ]
  },
  {
   "cell_type": "code",
   "execution_count": null,
   "metadata": {},
   "outputs": [],
   "source": [
    "dir(object)"
   ]
  },
  {
   "cell_type": "code",
   "execution_count": 86,
   "metadata": {},
   "outputs": [],
   "source": [
    "class Car(object):  \n",
    "    total_num = 0\n",
    "    \n",
    "    @staticmethod\n",
    "    def call_119():\n",
    "        return \"119\"\n",
    "    \n",
    "    @classmethod\n",
    "    def get_total_car(cls):\n",
    "        return cls.total_num\n",
    "    \n",
    "    def __init__(self, model, engine_rank):\n",
    "        self.model = model\n",
    "        self.engine_rank = engine_rank\n",
    "        self.speed = 0\n",
    "        \n",
    "        Car.total_num += 1\n",
    "    \n",
    "    def accelerate(self):\n",
    "        if self.speed >500:\n",
    "            return False\n",
    "        self.speed += 10\n",
    "        return True\n",
    "    \n",
    "    def push_break(self):\n",
    "        self.speed -= 10\n",
    "        return True\n",
    "        "
   ]
  },
  {
   "cell_type": "code",
   "execution_count": 87,
   "metadata": {},
   "outputs": [],
   "source": [
    "my_car = Car(\"Toyota\", 'S')"
   ]
  },
  {
   "cell_type": "code",
   "execution_count": 88,
   "metadata": {},
   "outputs": [],
   "source": [
    "minsu_car = Car(\"Toyota\", 'S')"
   ]
  },
  {
   "cell_type": "code",
   "execution_count": 89,
   "metadata": {},
   "outputs": [],
   "source": [
    "jungho_car = Car(\"BMW\", 'S')"
   ]
  },
  {
   "cell_type": "code",
   "execution_count": 90,
   "metadata": {},
   "outputs": [
    {
     "data": {
      "text/plain": [
       "3"
      ]
     },
     "execution_count": 90,
     "metadata": {},
     "output_type": "execute_result"
    }
   ],
   "source": [
    "Car.total_num"
   ]
  },
  {
   "cell_type": "markdown",
   "metadata": {},
   "source": [
    "### 정적메소드"
   ]
  },
  {
   "cell_type": "code",
   "execution_count": 91,
   "metadata": {},
   "outputs": [
    {
     "data": {
      "text/plain": [
       "'119'"
      ]
     },
     "execution_count": 91,
     "metadata": {},
     "output_type": "execute_result"
    }
   ],
   "source": [
    "Car.call_119()"
   ]
  },
  {
   "cell_type": "code",
   "execution_count": 92,
   "metadata": {},
   "outputs": [
    {
     "data": {
      "text/plain": [
       "'119'"
      ]
     },
     "execution_count": 92,
     "metadata": {},
     "output_type": "execute_result"
    }
   ],
   "source": [
    "Car.call_119()"
   ]
  },
  {
   "cell_type": "markdown",
   "metadata": {},
   "source": [
    "### 클래스메소드"
   ]
  },
  {
   "cell_type": "code",
   "execution_count": 93,
   "metadata": {},
   "outputs": [
    {
     "data": {
      "text/plain": [
       "3"
      ]
     },
     "execution_count": 93,
     "metadata": {},
     "output_type": "execute_result"
    }
   ],
   "source": [
    "Car.get_total_car()"
   ]
  },
  {
   "cell_type": "code",
   "execution_count": 94,
   "metadata": {},
   "outputs": [
    {
     "ename": "AttributeError",
     "evalue": "'Car' object has no attribute '_Car__speed'",
     "output_type": "error",
     "traceback": [
      "\u001b[1;31m---------------------------------------------------------------------------\u001b[0m",
      "\u001b[1;31mAttributeError\u001b[0m                            Traceback (most recent call last)",
      "\u001b[1;32m<ipython-input-94-ae044231f2dc>\u001b[0m in \u001b[0;36m<module>\u001b[1;34m\u001b[0m\n\u001b[0;32m      1\u001b[0m \u001b[0mdir\u001b[0m\u001b[1;33m(\u001b[0m\u001b[0mmy_car\u001b[0m\u001b[1;33m)\u001b[0m\u001b[1;33m\u001b[0m\u001b[1;33m\u001b[0m\u001b[0m\n\u001b[1;32m----> 2\u001b[1;33m \u001b[0mmy_car\u001b[0m\u001b[1;33m.\u001b[0m\u001b[0m_Car__speed\u001b[0m \u001b[1;33m+=\u001b[0m\u001b[1;36m100\u001b[0m\u001b[1;33m\u001b[0m\u001b[1;33m\u001b[0m\u001b[0m\n\u001b[0m",
      "\u001b[1;31mAttributeError\u001b[0m: 'Car' object has no attribute '_Car__speed'"
     ]
    }
   ],
   "source": [
    "dir(my_car)\n",
    "my_car._Car__speed +=100"
   ]
  },
  {
   "cell_type": "code",
   "execution_count": 17,
   "metadata": {},
   "outputs": [
    {
     "data": {
      "text/plain": [
       "100"
      ]
     },
     "execution_count": 17,
     "metadata": {},
     "output_type": "execute_result"
    }
   ],
   "source": [
    "my_car._Car__speed # 멤버 변수(속성)에 접근했엇고"
   ]
  },
  {
   "cell_type": "code",
   "execution_count": 12,
   "metadata": {},
   "outputs": [
    {
     "ename": "AttributeError",
     "evalue": "'Car' object has no attribute '__speed'",
     "output_type": "error",
     "traceback": [
      "\u001b[1;31m---------------------------------------------------------------------------\u001b[0m",
      "\u001b[1;31mAttributeError\u001b[0m                            Traceback (most recent call last)",
      "\u001b[1;32m<ipython-input-12-be7c720d769e>\u001b[0m in \u001b[0;36m<module>\u001b[1;34m\u001b[0m\n\u001b[1;32m----> 1\u001b[1;33m \u001b[0mmy_car\u001b[0m\u001b[1;33m.\u001b[0m\u001b[0m__speed\u001b[0m\u001b[1;33m\u001b[0m\u001b[1;33m\u001b[0m\u001b[0m\n\u001b[0m",
      "\u001b[1;31mAttributeError\u001b[0m: 'Car' object has no attribute '__speed'"
     ]
    }
   ],
   "source": [
    "my_car.speed"
   ]
  },
  {
   "cell_type": "code",
   "execution_count": 5,
   "metadata": {},
   "outputs": [
    {
     "data": {
      "text/plain": [
       "True"
      ]
     },
     "execution_count": 5,
     "metadata": {},
     "output_type": "execute_result"
    }
   ],
   "source": [
    "my_car.accelerate() # 멤버 함수(메소드)를 호출했습니다."
   ]
  },
  {
   "cell_type": "code",
   "execution_count": 10,
   "metadata": {},
   "outputs": [
    {
     "data": {
      "text/plain": [
       "['_Car__speed',\n",
       " '__class__',\n",
       " '__delattr__',\n",
       " '__dict__',\n",
       " '__dir__',\n",
       " '__doc__',\n",
       " '__eq__',\n",
       " '__format__',\n",
       " '__ge__',\n",
       " '__getattribute__',\n",
       " '__gt__',\n",
       " '__hash__',\n",
       " '__init__',\n",
       " '__init_subclass__',\n",
       " '__le__',\n",
       " '__lt__',\n",
       " '__module__',\n",
       " '__ne__',\n",
       " '__new__',\n",
       " '__reduce__',\n",
       " '__reduce_ex__',\n",
       " '__repr__',\n",
       " '__setattr__',\n",
       " '__sizeof__',\n",
       " '__str__',\n",
       " '__subclasshook__',\n",
       " '__weakref__',\n",
       " 'accelerate',\n",
       " 'engine_rank',\n",
       " 'model',\n",
       " 'push_break']"
      ]
     },
     "execution_count": 10,
     "metadata": {},
     "output_type": "execute_result"
    }
   ],
   "source": [
    "dir(my_car)"
   ]
  },
  {
   "cell_type": "code",
   "execution_count": 7,
   "metadata": {},
   "outputs": [
    {
     "data": {
      "text/plain": [
       "'Toyota'"
      ]
     },
     "execution_count": 7,
     "metadata": {},
     "output_type": "execute_result"
    }
   ],
   "source": [
    "my_car.model"
   ]
  },
  {
   "cell_type": "code",
   "execution_count": 8,
   "metadata": {},
   "outputs": [
    {
     "data": {
      "text/plain": [
       "'A'"
      ]
     },
     "execution_count": 8,
     "metadata": {},
     "output_type": "execute_result"
    }
   ],
   "source": [
    "my_car.engine_rank"
   ]
  },
  {
   "cell_type": "code",
   "execution_count": 95,
   "metadata": {},
   "outputs": [],
   "source": [
    "class BMWCar(Car):\n",
    "    def accelerate(self):\n",
    "        self.speed += 100\n",
    "        \n",
    "        super().accelerate()\n",
    "        \n",
    "    pass"
   ]
  },
  {
   "cell_type": "code",
   "execution_count": 96,
   "metadata": {},
   "outputs": [
    {
     "data": {
      "text/plain": [
       "__main__.BMWCar"
      ]
     },
     "execution_count": 96,
     "metadata": {},
     "output_type": "execute_result"
    }
   ],
   "source": [
    "minsu_car = BMWCar(\"BMW\", \"A\")\n",
    "type(minsu_car)"
   ]
  },
  {
   "cell_type": "code",
   "execution_count": 97,
   "metadata": {},
   "outputs": [
    {
     "data": {
      "text/plain": [
       "0"
      ]
     },
     "execution_count": 97,
     "metadata": {},
     "output_type": "execute_result"
    }
   ],
   "source": [
    "minsu_car.speed"
   ]
  },
  {
   "cell_type": "code",
   "execution_count": 98,
   "metadata": {},
   "outputs": [
    {
     "name": "stdout",
     "output_type": "stream",
     "text": [
      "0\n"
     ]
    }
   ],
   "source": [
    "minsu_car.accelerate()"
   ]
  },
  {
   "cell_type": "code",
   "execution_count": 99,
   "metadata": {},
   "outputs": [
    {
     "data": {
      "text/plain": [
       "100"
      ]
     },
     "execution_count": 99,
     "metadata": {},
     "output_type": "execute_result"
    }
   ],
   "source": [
    "minsu_car.speed"
   ]
  },
  {
   "cell_type": "code",
   "execution_count": 100,
   "metadata": {},
   "outputs": [
    {
     "data": {
      "text/plain": [
       "0"
      ]
     },
     "execution_count": 100,
     "metadata": {},
     "output_type": "execute_result"
    }
   ],
   "source": [
    "younsoo_car = Car(\"Toyota\", 'S')\n",
    "younsoo_car.speed"
   ]
  },
  {
   "cell_type": "code",
   "execution_count": 101,
   "metadata": {},
   "outputs": [
    {
     "data": {
      "text/plain": [
       "10"
      ]
     },
     "execution_count": 101,
     "metadata": {},
     "output_type": "execute_result"
    }
   ],
   "source": [
    "younsoo_car.accelerate()\n",
    "younsoo_car.speed"
   ]
  },
  {
   "cell_type": "code",
   "execution_count": null,
   "metadata": {},
   "outputs": [],
   "source": [
    "minsu_car.speed = 50"
   ]
  },
  {
   "cell_type": "code",
   "execution_count": null,
   "metadata": {},
   "outputs": [],
   "source": [
    "minsu_car.speed"
   ]
  },
  {
   "cell_type": "code",
   "execution_count": null,
   "metadata": {},
   "outputs": [],
   "source": []
  },
  {
   "cell_type": "code",
   "execution_count": null,
   "metadata": {},
   "outputs": [],
   "source": [
    "a"
   ]
  },
  {
   "cell_type": "code",
   "execution_count": null,
   "metadata": {},
   "outputs": [],
   "source": [
    "dir(my_car)"
   ]
  },
  {
   "cell_type": "code",
   "execution_count": null,
   "metadata": {},
   "outputs": [],
   "source": []
  },
  {
   "cell_type": "code",
   "execution_count": null,
   "metadata": {},
   "outputs": [],
   "source": []
  },
  {
   "cell_type": "code",
   "execution_count": null,
   "metadata": {},
   "outputs": [],
   "source": []
  },
  {
   "cell_type": "code",
   "execution_count": null,
   "metadata": {},
   "outputs": [],
   "source": []
  },
  {
   "cell_type": "code",
   "execution_count": null,
   "metadata": {},
   "outputs": [],
   "source": []
  },
  {
   "cell_type": "code",
   "execution_count": null,
   "metadata": {},
   "outputs": [],
   "source": []
  },
  {
   "cell_type": "code",
   "execution_count": null,
   "metadata": {},
   "outputs": [],
   "source": [
    "a"
   ]
  },
  {
   "cell_type": "code",
   "execution_count": null,
   "metadata": {},
   "outputs": [],
   "source": [
    "a.append(5)"
   ]
  },
  {
   "cell_type": "code",
   "execution_count": null,
   "metadata": {},
   "outputs": [],
   "source": [
    "calc(l1)"
   ]
  },
  {
   "cell_type": "code",
   "execution_count": null,
   "metadata": {},
   "outputs": [],
   "source": [
    "choco = Dog(\"choco\",  \"black\")\n",
    "jjong = Dog(\"jjong\", \"white\")\n",
    "\n",
    "choco.walk()\n",
    "choco.walk()\n",
    "choco.eat()\n",
    "\n",
    "print(\"choco 배고픔 : \", choco.hungry)\n",
    "print(\"jjong 배고픔 : \", jjong.hungry)"
   ]
  },
  {
   "cell_type": "markdown",
   "metadata": {},
   "source": [
    "### 비공개 속성 (private attribute)"
   ]
  },
  {
   "cell_type": "code",
   "execution_count": null,
   "metadata": {},
   "outputs": [],
   "source": [
    "class Dog:    \n",
    "    \n",
    "    def __init__(self, name, color):\n",
    "        self.name = name\n",
    "        self.color = color\n",
    "        self.__hungry = 0\n",
    "    \n",
    "    def eat(self):\n",
    "        if self.__hungry <= 0:\n",
    "            print(\"배가너무 불러요!!!\")\n",
    "        else:\n",
    "            self.__hungry -= 10\n",
    "            print(\"밥먹음 \", self.__hungry)\n",
    "        \n",
    "    def walk(self):\n",
    "        self.__hungry += 10\n",
    "        print(\"산책 \", self.__hungry)\n",
    "        \n",
    "    def contition(self):\n",
    "        print(\"%s 배고픔 : %d\" % (self.name, self.__hungry))"
   ]
  },
  {
   "cell_type": "code",
   "execution_count": null,
   "metadata": {},
   "outputs": [],
   "source": [
    "mery = Dog(\"mery\",  \"black\")\n",
    "\n",
    "mery.eat()\n",
    "mery.eat()\n",
    "mery.eat()\n",
    "\n",
    "mery.contition()\n",
    "#mery.__hungry += 100"
   ]
  },
  {
   "cell_type": "markdown",
   "metadata": {},
   "source": [
    "### 클래스 속성 (class attribute)"
   ]
  },
  {
   "cell_type": "code",
   "execution_count": null,
   "metadata": {},
   "outputs": [],
   "source": [
    "class Dog:\n",
    "    dog_count = 0\n",
    "    \n",
    "    def __init__(self, name, color):\n",
    "        self.name = name\n",
    "        self.color = color\n",
    "        Dog.dog_count += 1\n",
    "    \n",
    "    def dogCount(self):\n",
    "        print(\"총 강아지는 : \", Dog.dog_count)\n",
    "    "
   ]
  },
  {
   "cell_type": "code",
   "execution_count": null,
   "metadata": {},
   "outputs": [],
   "source": [
    "hello = Dog(\"hello\", \"black\")\n",
    "hello.dogCount()\n",
    "happy = Dog(\"happy\",\" black\")\n",
    "happy.dogCount()"
   ]
  },
  {
   "cell_type": "markdown",
   "metadata": {},
   "source": [
    "### 정적 메서드 (static method)"
   ]
  },
  {
   "cell_type": "code",
   "execution_count": null,
   "metadata": {},
   "outputs": [],
   "source": [
    "class Calc:\n",
    "    @staticmethod\n",
    "    def add(a, b):\n",
    "        print(a + b)\n",
    "        \n",
    "Calc.add(10, 20)"
   ]
  },
  {
   "cell_type": "markdown",
   "metadata": {},
   "source": [
    "### 클래스 메서드 (class Method)"
   ]
  },
  {
   "cell_type": "code",
   "execution_count": null,
   "metadata": {},
   "outputs": [],
   "source": [
    "class Calc:\n",
    "    count = 0\n",
    "    @classmethod\n",
    "    def add(cls, a, b):\n",
    "        print(a + b)\n",
    "        cls.count += 1\n",
    "        print(\"계산된 횟수 : \", cls.count)\n",
    "\n",
    "Calc.add(10, 20)\n",
    "Calc.add(30, 40)"
   ]
  },
  {
   "cell_type": "markdown",
   "metadata": {},
   "source": [
    "### 상속"
   ]
  },
  {
   "cell_type": "code",
   "execution_count": null,
   "metadata": {},
   "outputs": [],
   "source": [
    "class Animal:\n",
    "    \n",
    "    def __init__(self):\n",
    "        self.hungry = 0\n",
    "    \n",
    "    def eat(self):\n",
    "        self.hungry -= 10\n",
    "        print(\"밥먹음 \", self.hungry)\n",
    "    def walk(self):\n",
    "        self.hungry += 10\n",
    "        print(\"산책 \", self.hungry)\n",
    "\n",
    "class Dog(Animal):\n",
    "    \n",
    "    def __init__(self):\n",
    "        super().__init__()\n",
    "    \n",
    "    def sound(self):\n",
    "        print(\"멍멍\")\n",
    "        \n",
    "class Cat(Animal):\n",
    "    \n",
    "    def __init__(self):\n",
    "        super().__init__()\n",
    "    \n",
    "    def sound(self):\n",
    "        print(\"야옹\")\n",
    "    \n",
    "dog = Dog()\n",
    "dog.sound()\n",
    "dog.walk()\n",
    "dog.walk()\n",
    "\n",
    "cat = Cat()\n",
    "cat. sound()\n",
    "cat.walk()\n",
    "cat.walk()"
   ]
  },
  {
   "cell_type": "markdown",
   "metadata": {},
   "source": [
    "### 오버라이딩"
   ]
  },
  {
   "cell_type": "code",
   "execution_count": null,
   "metadata": {},
   "outputs": [],
   "source": [
    "class Animal:\n",
    "    \n",
    "    def __init__(self):\n",
    "        self.hungry = 0\n",
    "    \n",
    "    def eat(self):\n",
    "        self.hungry -= 10\n",
    "        print(\"밥먹음 \", self.hungry)\n",
    "    def walk(self):\n",
    "        self.hungry += 10\n",
    "        print(\"산책 \", self.hungry)\n",
    "\n",
    "class Dog(Animal):\n",
    "    \n",
    "    def __init__(self):\n",
    "        super().__init__()\n",
    "    \n",
    "    def sound(self):\n",
    "        print(\"멍멍\")\n",
    "        \n",
    "    def eat(self):\n",
    "        super().eat()\n",
    "        print(\"왈왈\")\n",
    "    \n",
    "dog = Dog()\n",
    "dog.eat()"
   ]
  },
  {
   "cell_type": "markdown",
   "metadata": {},
   "source": [
    "### 추상클래스"
   ]
  },
  {
   "cell_type": "code",
   "execution_count": null,
   "metadata": {},
   "outputs": [],
   "source": [
    "from abc import *\n",
    "\n",
    "class Animal(metaclass=ABCMeta):\n",
    "    \n",
    "    def __init__(self):\n",
    "        self.hungry = 0\n",
    "    \n",
    "    def eat(self):\n",
    "        self.hungry -= 10\n",
    "        print(\"밥먹음 \", self.hungry)\n",
    "    def walk(self):\n",
    "        self.hungry += 10\n",
    "        print(\"산책 \", self.hungry)\n",
    "        \n",
    "    @abstractmethod\n",
    "    def sound(self):\n",
    "        pass\n",
    "\n",
    "class Dog(Animal):\n",
    "    \n",
    "    def __init__(self):\n",
    "        super().__init__()\n",
    "    \n",
    "    def sound(self):\n",
    "        print(\"멍멍\")\n",
    "    \n",
    "\n",
    "    \n",
    "dog = Dog()\n",
    "dog.eat()"
   ]
  },
  {
   "cell_type": "markdown",
   "metadata": {},
   "source": [
    "# 연습문제1."
   ]
  },
  {
   "cell_type": "markdown",
   "metadata": {},
   "source": [
    "Car 클래스를 만드세요  \n",
    "객체 생성시 차이름, 배기량, 생산년도 입력받으세요  \n",
    "객체 생성시 등록된 차이름, 배기량, 생산년도는 직접 변경하지 못합니다  \n",
    "차 이름을 변경하는 함수를 만드세요  \n",
    "배기량에 따라 1000CC 이하 소형  \n",
    "1000CC 이상 2000CC 이하 중형  \n",
    "2000CC 이상 대형을 출력하는 함수를 만드세요  \n",
    "객체 생성시마다 등록된 차량 갯수를 기록해주세요  \n",
    "총 등록된 차량개수를 출력하는 클래스 함수를 만드세요  \n"
   ]
  },
  {
   "cell_type": "code",
   "execution_count": 35,
   "metadata": {},
   "outputs": [],
   "source": [
    "class Car(object):\n",
    "    a = 0\n",
    "    @staticmethod\n",
    "    def temp_static():\n",
    "        pass\n",
    "    \n",
    "    @classmethod\n",
    "    def temp_cm(cls):\n",
    "        # cls=Car   \n",
    "        \n",
    "        pass\n",
    "    @classmethod\n",
    "    def make_bmw(cls):\n",
    "        # cls = Car\n",
    "        # Car(\"my_car2\", \"BMW\")\n",
    "        return cls(\"my_car2\", 'BMW')\n",
    "    \n",
    "    # method\n",
    "    def temp_method(self):\n",
    "        pass\n",
    "    \n",
    "    \n",
    "    pass\n",
    "    "
   ]
  },
  {
   "cell_type": "code",
   "execution_count": 36,
   "metadata": {},
   "outputs": [],
   "source": [
    "my_car = Car()\n",
    "my_car.temp_method()"
   ]
  },
  {
   "cell_type": "code",
   "execution_count": null,
   "metadata": {},
   "outputs": [],
   "source": [
    "Car.temp_cm()"
   ]
  },
  {
   "cell_type": "code",
   "execution_count": 37,
   "metadata": {},
   "outputs": [],
   "source": [
    "my_car = Car()"
   ]
  },
  {
   "cell_type": "markdown",
   "metadata": {},
   "source": [
    "# 연습문제1"
   ]
  },
  {
   "cell_type": "markdown",
   "metadata": {},
   "source": [
    "Car 클래스를 만드세요  \n",
    "객체 생성시 차이름, 배기량, 생산년도 입력받으세요  \n",
    "객체 생성시 등록된 차이름, 배기량, 생산년도는 직접 변경하지 못합니다  \n",
    "차 이름을 변경하는 함수를 만드세요  \n",
    "배기량에 따라 1000CC 이하 소형  \n",
    "1000CC 이상 2000CC 이하 중형  \n",
    "2000CC 이상 대형을 출력하는 함수를 만드세요  \n",
    "객체 생성시마다 등록된 차량 갯수를 기록해주세요  \n",
    "총 등록된 차량개수를 출력하는 클래스 함수를 만드세요  \n"
   ]
  },
  {
   "cell_type": "code",
   "execution_count": 38,
   "metadata": {},
   "outputs": [],
   "source": [
    "class Car(object):\n",
    "    total = 0\n",
    "    \n",
    "    def __init__(self, name, cc, year):\n",
    "        self.__name = name\n",
    "        self.__cc = cc\n",
    "        self.__year = year\n",
    "        \n",
    "        Car.total += 1\n",
    "    \n",
    "    def change_name(self, new_name):\n",
    "        self.__name = new_name\n",
    "        return self.__name\n",
    "    \n",
    "    def get_size(self):\n",
    "        if self.__cc < 1000:\n",
    "            # print(\"소형\")\n",
    "            return \"소형\"\n",
    "        elif self.__cc <2000:\n",
    "            print(\"중형\")\n",
    "            return \"중형\"\n",
    "        else:\n",
    "            print(\"대형\")\n",
    "            return \"대형\"\n",
    "    \n",
    "    def get_name(self):\n",
    "        return self.__name\n",
    "    \n",
    "    def get_cc(self):\n",
    "        return self.__cc\n",
    "    \n",
    "    def get_year(self):\n",
    "        return self.__year\n",
    "    \n",
    "    @classmethod\n",
    "    def get_total_num(cls):\n",
    "        # cls = Car\n",
    "        return cls.total # Car.total\n",
    "    \n"
   ]
  },
  {
   "cell_type": "code",
   "execution_count": 39,
   "metadata": {},
   "outputs": [],
   "source": [
    "my_car = Car(\"BMW\", 3000, '2019')"
   ]
  },
  {
   "cell_type": "code",
   "execution_count": 40,
   "metadata": {},
   "outputs": [],
   "source": [
    "my_car2 = Car(\"Benz\", 4000, '2010')"
   ]
  },
  {
   "cell_type": "code",
   "execution_count": 41,
   "metadata": {},
   "outputs": [],
   "source": [
    "my_small_car = Car(\"티코\", 800, '2000')"
   ]
  },
  {
   "cell_type": "code",
   "execution_count": 42,
   "metadata": {},
   "outputs": [],
   "source": [
    "my_good_car = Car(\"BMW\", 1800, '2010')"
   ]
  },
  {
   "cell_type": "code",
   "execution_count": 43,
   "metadata": {},
   "outputs": [
    {
     "data": {
      "text/plain": [
       "'BMW'"
      ]
     },
     "execution_count": 43,
     "metadata": {},
     "output_type": "execute_result"
    }
   ],
   "source": [
    "my_car.get_name()"
   ]
  },
  {
   "cell_type": "code",
   "execution_count": 44,
   "metadata": {},
   "outputs": [
    {
     "data": {
      "text/plain": [
       "'Audi'"
      ]
     },
     "execution_count": 44,
     "metadata": {},
     "output_type": "execute_result"
    }
   ],
   "source": [
    "my_car.change_name(\"Audi\")"
   ]
  },
  {
   "cell_type": "code",
   "execution_count": 45,
   "metadata": {},
   "outputs": [
    {
     "data": {
      "text/plain": [
       "'Audi'"
      ]
     },
     "execution_count": 45,
     "metadata": {},
     "output_type": "execute_result"
    }
   ],
   "source": [
    "my_car.get_name()"
   ]
  },
  {
   "cell_type": "code",
   "execution_count": 46,
   "metadata": {
    "scrolled": true
   },
   "outputs": [
    {
     "name": "stdout",
     "output_type": "stream",
     "text": [
      "대형\n"
     ]
    },
    {
     "data": {
      "text/plain": [
       "'대형'"
      ]
     },
     "execution_count": 46,
     "metadata": {},
     "output_type": "execute_result"
    }
   ],
   "source": [
    "my_car.get_size()"
   ]
  },
  {
   "cell_type": "markdown",
   "metadata": {},
   "source": [
    "# 연식에 따라 나누기\n",
    "\n",
    "\n",
    "## 첫번째 방법 \n"
   ]
  },
  {
   "cell_type": "markdown",
   "metadata": {},
   "source": [
    "#### 클래스 밖에서 딕셔너리를 이용한다."
   ]
  },
  {
   "cell_type": "code",
   "execution_count": 48,
   "metadata": {},
   "outputs": [
    {
     "data": {
      "text/plain": [
       "'2019'"
      ]
     },
     "execution_count": 48,
     "metadata": {},
     "output_type": "execute_result"
    }
   ],
   "source": [
    "my_car = Car(\"BMW\", 3000, '2019')\n",
    "my_car.get_year()"
   ]
  },
  {
   "cell_type": "code",
   "execution_count": 50,
   "metadata": {},
   "outputs": [],
   "source": [
    "my_dict = {}\n",
    "year= my_car.get_year()"
   ]
  },
  {
   "cell_type": "code",
   "execution_count": 51,
   "metadata": {},
   "outputs": [],
   "source": [
    "if year not in my_dict:\n",
    "    my_dict[year] = []\n"
   ]
  },
  {
   "cell_type": "code",
   "execution_count": 52,
   "metadata": {},
   "outputs": [],
   "source": [
    "my_dict[year].append(my_car)"
   ]
  },
  {
   "cell_type": "code",
   "execution_count": 53,
   "metadata": {},
   "outputs": [
    {
     "data": {
      "text/plain": [
       "{'2019': [<__main__.Car at 0x5c85c50>]}"
      ]
     },
     "execution_count": 53,
     "metadata": {},
     "output_type": "execute_result"
    }
   ],
   "source": [
    "my_dict"
   ]
  },
  {
   "cell_type": "code",
   "execution_count": 54,
   "metadata": {},
   "outputs": [],
   "source": [
    "my_car = Car(\"버스\", 3000, '2018')\n",
    "\n",
    "def add_dict_car(my_dict, car):\n",
    "    year = car.get_year()\n",
    "    if year not in my_dict:\n",
    "        my_dict[year] = []\n",
    "    \n",
    "    my_dict[year].append(car)\n"
   ]
  },
  {
   "cell_type": "code",
   "execution_count": 55,
   "metadata": {},
   "outputs": [],
   "source": [
    "add_dict_car(my_dict, my_car)"
   ]
  },
  {
   "cell_type": "code",
   "execution_count": 56,
   "metadata": {},
   "outputs": [
    {
     "data": {
      "text/plain": [
       "{'2019': [<__main__.Car at 0x5c85c50>], '2018': [<__main__.Car at 0x5c99668>]}"
      ]
     },
     "execution_count": 56,
     "metadata": {},
     "output_type": "execute_result"
    }
   ],
   "source": [
    "my_dict"
   ]
  },
  {
   "cell_type": "code",
   "execution_count": 57,
   "metadata": {},
   "outputs": [
    {
     "data": {
      "text/plain": [
       "[<__main__.Car at 0x5c85c50>]"
      ]
     },
     "execution_count": 57,
     "metadata": {},
     "output_type": "execute_result"
    }
   ],
   "source": [
    "my_dict['2019']"
   ]
  },
  {
   "cell_type": "code",
   "execution_count": 58,
   "metadata": {},
   "outputs": [],
   "source": [
    "my_dict ={'name': '윤수'}"
   ]
  },
  {
   "cell_type": "code",
   "execution_count": 59,
   "metadata": {},
   "outputs": [
    {
     "data": {
      "text/plain": [
       "{'name': '윤수'}"
      ]
     },
     "execution_count": 59,
     "metadata": {},
     "output_type": "execute_result"
    }
   ],
   "source": [
    "my_dict"
   ]
  },
  {
   "cell_type": "markdown",
   "metadata": {},
   "source": [
    "## 두번째 방법:\n",
    "## 클래스 속성을 사용하자"
   ]
  },
  {
   "cell_type": "code",
   "execution_count": 95,
   "metadata": {},
   "outputs": [],
   "source": [
    "class Car(object):\n",
    "    total = 0\n",
    "    year_dict = {}\n",
    "    \n",
    "    def __init__(self, name, cc, year):\n",
    "        self.__name = name\n",
    "        self.__cc = cc\n",
    "        self.__year = year\n",
    "        \n",
    "        Car.plus_total()\n",
    "        Car.add_year_dict(self)\n",
    "        \n",
    "    \n",
    "    @classmethod\n",
    "    def plus_total(cls):\n",
    "        cls.total += 1\n",
    "        \n",
    "    @classmethod\n",
    "    def add_year_dict(cls, instance):\n",
    "        if instance.__year not in cls.year_dict:\n",
    "            cls.year_dict[instance.__year] = []\n",
    "            \n",
    "        cls.year_dict[instance.__year].append(instance)\n",
    "    \n",
    "    @classmethod\n",
    "    def get_cars_by_year(cls, year):\n",
    "        # cls = Car\n",
    "        year_dict = cls.year_dict\n",
    "        \n",
    "        if year not in year_dict:\n",
    "            return []\n",
    "        else:\n",
    "            return year_dict[year]\n",
    "        \n",
    "    \n",
    "    def change_name(self, new_name):\n",
    "        self.__name = new_name\n",
    "        return self.__name\n",
    "    \n",
    "    def get_size(self):\n",
    "        if self.__cc < 1000:\n",
    "            # print(\"소형\")\n",
    "            return \"소형\"\n",
    "        elif self.__cc <2000:\n",
    "            print(\"중형\")\n",
    "            return \"중형\"\n",
    "        else:\n",
    "            print(\"대형\")\n",
    "            return \"대형\"\n",
    "    \n",
    "    def get_name(self):\n",
    "        return self.__name\n",
    "    \n",
    "    def get_cc(self):\n",
    "        return self.__cc\n",
    "    \n",
    "    def get_year(self):\n",
    "        return self.__year\n",
    "    \n",
    "    @classmethod\n",
    "    def get_total_num(cls):\n",
    "        # cls = Car\n",
    "        return cls.total # Car.total\n",
    "\n",
    "    def __repr__(self):\n",
    "        return \"[{}, {}, {}]\".format(self.__name, self.__cc, self.__year)\n"
   ]
  },
  {
   "cell_type": "code",
   "execution_count": 96,
   "metadata": {},
   "outputs": [],
   "source": [
    "my_car = Car(\"BMW\", 2000, \"2019\")\n",
    "my_car2 = Car('BMW2', 3000, \"2018\")\n",
    "my_car3 = Car(\"Benz\", 3000, \"2019\")\n",
    "my_car4 = Car(\"Benz2\", 3000, \"2017\")\n",
    "my_car5 = Car(\"Audi\", 3000, \"2019\")\n",
    "my_car6 = Car(\"Audi2\", 3000, \"2018\")"
   ]
  },
  {
   "cell_type": "code",
   "execution_count": 97,
   "metadata": {},
   "outputs": [
    {
     "name": "stdout",
     "output_type": "stream",
     "text": [
      "{'2019': [[BMW, 2000, 2019], [Benz, 3000, 2019], [Audi, 3000, 2019]], '2018': [[BMW2, 3000, 2018], [Audi2, 3000, 2018]], '2017': [[Benz2, 3000, 2017]]}\n"
     ]
    }
   ],
   "source": [
    "print(Car.year_dict)"
   ]
  },
  {
   "cell_type": "code",
   "execution_count": 98,
   "metadata": {},
   "outputs": [],
   "source": [
    "car_2019 = Car.get_cars_by_year(\"2019\")"
   ]
  },
  {
   "cell_type": "code",
   "execution_count": 99,
   "metadata": {},
   "outputs": [
    {
     "name": "stdout",
     "output_type": "stream",
     "text": [
      "대형\n",
      "대형\n",
      "대형\n"
     ]
    }
   ],
   "source": [
    "for car in car_2019:\n",
    "    size = car.get_size()\n"
   ]
  },
  {
   "cell_type": "code",
   "execution_count": 100,
   "metadata": {},
   "outputs": [],
   "source": [
    "for idx, car in enumerate(car_2019):\n",
    "    new_name = \"2019_%s\" % idx\n",
    "    car.change_name(new_name)\n"
   ]
  },
  {
   "cell_type": "code",
   "execution_count": 101,
   "metadata": {},
   "outputs": [
    {
     "data": {
      "text/plain": [
       "[[2019_0, 2000, 2019], [2019_1, 3000, 2019], [2019_2, 3000, 2019]]"
      ]
     },
     "execution_count": 101,
     "metadata": {},
     "output_type": "execute_result"
    }
   ],
   "source": [
    "car_2019"
   ]
  },
  {
   "cell_type": "code",
   "execution_count": null,
   "metadata": {},
   "outputs": [],
   "source": []
  },
  {
   "cell_type": "code",
   "execution_count": null,
   "metadata": {},
   "outputs": [],
   "source": []
  }
 ],
 "metadata": {
  "kernelspec": {
   "display_name": "Python 3",
   "language": "python",
   "name": "python3"
  },
  "language_info": {
   "codemirror_mode": {
    "name": "ipython",
    "version": 3
   },
   "file_extension": ".py",
   "mimetype": "text/x-python",
   "name": "python",
   "nbconvert_exporter": "python",
   "pygments_lexer": "ipython3",
   "version": "3.6.8"
  }
 },
 "nbformat": 4,
 "nbformat_minor": 2
}
